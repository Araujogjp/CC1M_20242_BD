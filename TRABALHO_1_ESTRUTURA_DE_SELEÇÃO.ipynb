{
  "nbformat": 4,
  "nbformat_minor": 0,
  "metadata": {
    "colab": {
      "provenance": [],
      "include_colab_link": true
    },
    "kernelspec": {
      "name": "python3",
      "display_name": "Python 3"
    }
  },
  "cells": [
    {
      "cell_type": "markdown",
      "metadata": {
        "id": "view-in-github",
        "colab_type": "text"
      },
      "source": [
        "<a href=\"https://colab.research.google.com/github/Araujogjp/CC1M_20242_BD/blob/main/TRABALHO_1_ESTRUTURA_DE_SELE%C3%87%C3%83O.ipynb\" target=\"_parent\"><img src=\"https://colab.research.google.com/assets/colab-badge.svg\" alt=\"Open In Colab\"/></a>"
      ]
    },
    {
      "cell_type": "markdown",
      "metadata": {
        "id": "G90zxY79qIXe"
      },
      "source": [
        "\n",
        "<html>\n",
        "  <body>\n",
        "    <header></header>\n",
        "        <CENTER>\n",
        "          <img src=\"https://uvv.br/wp-content/themes/core/dist/images/Logo.png\" alt=\"UVV-LOGO\" style = width=\"100px\"; height=\"100px\">\n",
        "        </CENTER>\n",
        "        <CENTER><b>LABORATÓRIO DE PROGRAMAÇAO</b></CENTER>\n",
        "        <CENTER><b>ESTRUTURA DE SELEÇÃO</b></CENTER>"
      ]
    },
    {
      "cell_type": "markdown",
      "source": [
        "NOME:"
      ],
      "metadata": {
        "id": "cTWjy-UMSZKR"
      }
    },
    {
      "cell_type": "markdown",
      "source": [
        "MEU LINK COLAB: [Link]()"
      ],
      "metadata": {
        "id": "VGKo5hTSCMcA"
      }
    },
    {
      "cell_type": "markdown",
      "source": [
        "Lista de exercícios: Fazer do 1 ao 17:  [Clique Aqui!](https://drive.google.com/file/d/1Q8Hg9rEfAQTDogfcyNHS91SjexqJrmfF/view?usp=sharing)"
      ],
      "metadata": {
        "id": "kvoyr5V8mk7f"
      }
    },
    {
      "cell_type": "markdown",
      "metadata": {
        "id": "CWZ7nYLvZjR8"
      },
      "source": [
        "# EXERCÍCIO NÚMERO 1:"
      ]
    },
    {
      "cell_type": "code",
      "source": [
        "import math\n",
        "try:\n",
        "  r = float(input('Digite o valor de r: '))\n",
        "  if(r <= 0):\n",
        "    print('O valor de [ r ] deve ser maior que 0')\n",
        "  else:\n",
        "    area = 4 * math.pi * (r**2)\n",
        "    volume = (4 / 3) * math.pi * (r**3)\n",
        "    print(f'O valor da área de [r] é: {area: .2f}')\n",
        "    print(f'O valor do volume de [r] é: {volume: .2f}')\n",
        "except Exception as ERRO_EXCECAO:\n",
        "  print(f'ERRO DE EXCEÇÃO: {ERRO_EXCECAO}')"
      ],
      "metadata": {
        "id": "aphElrP0V9-T",
        "outputId": "4cedc3a5-dcc2-4594-9505-f08a6321f5fc",
        "colab": {
          "base_uri": "https://localhost:8080/"
        }
      },
      "execution_count": 4,
      "outputs": [
        {
          "output_type": "stream",
          "name": "stdout",
          "text": [
            "Digite o valor de r: 0.3\n",
            "O valor da área de [r] é:  1.13\n",
            "O valor do volume de [r] é:  0.11\n"
          ]
        }
      ]
    },
    {
      "cell_type": "markdown",
      "metadata": {
        "id": "stTvYgS0Z1_e"
      },
      "source": [
        "# EXERCÍCIO NÚMERO 2:"
      ]
    },
    {
      "cell_type": "code",
      "metadata": {
        "id": "I0jBku9KZ0sk",
        "outputId": "7a223074-dc90-49e7-e558-6eb168fec3a1",
        "colab": {
          "base_uri": "https://localhost:8080/"
        }
      },
      "source": [
        "try:\n",
        "  b = float(input('Digite o valor da base (em centímetros): '))\n",
        "  h = float(input('Digite o valor da altura (em centímetros): '))\n",
        "  if( b <= 0 or h <= 0):\n",
        "    print('O valor da base (b) e altura (h) devem ser maiores que 0')\n",
        "  else:\n",
        "    perimetro = 2 * b + 2 * h\n",
        "    polegadas = perimetro / 2.54\n",
        "    j = polegadas * 0.03\n",
        "    print(f'O valor do perímetro em centimetros é: {perimetro: .2f}')\n",
        "    print(f'O valor do perímetro em polegadas é: {polegadas: .2f}')\n",
        "    print(f'O valor do perímetro em jardas é: {j: .2f}')\n",
        "except Exception as ERRO_EXCECAO:\n",
        "  print(f'ERRO DE EXCEÇÃO: {ERRO_EXCECAO}')\n"
      ],
      "execution_count": 5,
      "outputs": [
        {
          "output_type": "stream",
          "name": "stdout",
          "text": [
            "Digite o valor da base (em centímetros): 1\n",
            "Digite o valor da altura (em centímetros): 1\n",
            "O valor do perímetro em centimetros é:  4.00\n",
            "O valor do perímetro em polegadas é:  1.57\n",
            "O valor do perímetro em jardas é:  0.05\n"
          ]
        }
      ]
    },
    {
      "cell_type": "markdown",
      "source": [
        "# EXERCÍCIO NÚMERO 3:"
      ],
      "metadata": {
        "id": "nNqn6-b_qVIM"
      }
    },
    {
      "cell_type": "code",
      "source": [],
      "metadata": {
        "id": "cjbQZS4JqVTS"
      },
      "execution_count": null,
      "outputs": []
    },
    {
      "cell_type": "markdown",
      "source": [
        "# EXERCÍCIO NÚMERO 4:"
      ],
      "metadata": {
        "id": "z67ZmLgrqVeV"
      }
    },
    {
      "cell_type": "code",
      "source": [
        "try:\n",
        "  h = float(input('Digite sua altura: '))\n",
        "  identificador = int(input('Digite [0] se você for homem e se você for mulher digite [1]: '))\n",
        "  if(identificador > 1 or identificador < 0):\n",
        "    print('Digite [0] se for homem e [1] para mulher')\n",
        "  else:\n",
        "    if(identificador == 0):\n",
        "      massa = (72.7 * h) - 58\n",
        "      print(f'Sua massa é de {massa: .2f}')\n",
        "    else:\n",
        "      massa = (62.1 * h) - 44.7\n",
        "      print(f'Sua massa é de {massa: .2f}')\n",
        "except Exception as ERRO_EXCECAO:\n",
        "  print(f'ERRO DE EXCEÇÃO: {ERRO_EXCECAO}')\n"
      ],
      "metadata": {
        "id": "LUAhs9H6qVpx",
        "outputId": "dbc40442-d42d-4e98-9f19-dac3bf4c973f",
        "colab": {
          "base_uri": "https://localhost:8080/"
        }
      },
      "execution_count": 10,
      "outputs": [
        {
          "output_type": "stream",
          "name": "stdout",
          "text": [
            "Digite sua altura: 1.80\n",
            "Digite [0] se você for homem e se você for mulher digite [1]: 1\n",
            "Sua massa é de  67.08\n"
          ]
        }
      ]
    },
    {
      "cell_type": "markdown",
      "source": [
        "# EXERCÍCIO NÚMERO 5:"
      ],
      "metadata": {
        "id": "cyyo_tyuqV1w"
      }
    },
    {
      "cell_type": "code",
      "source": [
        "try:\n",
        "  valor = float(input('Digite o valor do ingresso em [(R$)]: '))\n",
        "  c = int(input('Quantas crianças até 10 anos vâo assitir o jogo?:  '))\n",
        "  j = int(input('Quantas jovens entre 11 e 17 anos vâo assitir o jogo?:  '))\n",
        "  a = int(input('Quantos adultos com 18 anos ou mais vâo assitir o jogo?:  '))\n",
        "  d = int(input('Quantos adultos dooaram 1kg ou mais de alimento não perecível?: '))\n",
        "  if(d > a):\n",
        "    print('O número de adultos que dooaram deve ser menor ou igual a quantos adultos foram assitir o jogo')\n",
        "  else:\n",
        "    pagar_inteira_a = a - d\n",
        "    pagar_metade_a = a - pagar_inteira_a\n",
        "    jovem_ingresso = (j * valor) / 2\n",
        "    adulto_ingresso_inteiro = (pagar_inteira_a * valor)\n",
        "    adulto_ingresso_metade = (pagar_metade_a * valor) / 2\n",
        "    publico =  c + j + a\n",
        "    arrecadacao = jovem_ingresso + adulto_ingresso_inteiro + adulto_ingresso_metade\n",
        "    print(f'O número de adultos que pagarão a inteira é de: {pagar_inteira_a}')\n",
        "    print(f'O número de adultos que pagarão metade é de: {pagar_metade_a}')\n",
        "    print(f'O publico total é de: {publico} pessoas')\n",
        "    print(f'A arrecadação total é de: {arrecadacao: .2f} R$')\n",
        "except Exception as ERRO_EXCECAO:\n",
        "  print(f'ERRO DE EXCEÇÃO: {ERRO_EXCECAO}')"
      ],
      "metadata": {
        "id": "EomGpGh-qWAK",
        "outputId": "7b6c261b-1bea-4ad6-cbc0-13177db0a812",
        "colab": {
          "base_uri": "https://localhost:8080/",
          "height": 356
        }
      },
      "execution_count": 32,
      "outputs": [
        {
          "output_type": "error",
          "ename": "KeyboardInterrupt",
          "evalue": "Interrupted by user",
          "traceback": [
            "\u001b[0;31m---------------------------------------------------------------------------\u001b[0m",
            "\u001b[0;31mKeyboardInterrupt\u001b[0m                         Traceback (most recent call last)",
            "\u001b[0;32m<ipython-input-32-2340ae61444b>\u001b[0m in \u001b[0;36m<cell line: 0>\u001b[0;34m()\u001b[0m\n\u001b[1;32m      1\u001b[0m \u001b[0;32mtry\u001b[0m\u001b[0;34m:\u001b[0m\u001b[0;34m\u001b[0m\u001b[0;34m\u001b[0m\u001b[0m\n\u001b[0;32m----> 2\u001b[0;31m   \u001b[0mvalor\u001b[0m \u001b[0;34m=\u001b[0m \u001b[0mfloat\u001b[0m\u001b[0;34m(\u001b[0m\u001b[0minput\u001b[0m\u001b[0;34m(\u001b[0m\u001b[0;34m'Digite o valor do ingresso em [(R$)]: '\u001b[0m\u001b[0;34m)\u001b[0m\u001b[0;34m)\u001b[0m\u001b[0;34m\u001b[0m\u001b[0;34m\u001b[0m\u001b[0m\n\u001b[0m\u001b[1;32m      3\u001b[0m   \u001b[0mc\u001b[0m \u001b[0;34m=\u001b[0m \u001b[0mint\u001b[0m\u001b[0;34m(\u001b[0m\u001b[0minput\u001b[0m\u001b[0;34m(\u001b[0m\u001b[0;34m'Quantas crianças até 10 anos vâo assitir o jogo?:  '\u001b[0m\u001b[0;34m)\u001b[0m\u001b[0;34m)\u001b[0m\u001b[0;34m\u001b[0m\u001b[0;34m\u001b[0m\u001b[0m\n\u001b[1;32m      4\u001b[0m   \u001b[0mj\u001b[0m \u001b[0;34m=\u001b[0m \u001b[0mint\u001b[0m\u001b[0;34m(\u001b[0m\u001b[0minput\u001b[0m\u001b[0;34m(\u001b[0m\u001b[0;34m'Quantas jovens entre 11 e 17 anos vâo assitir o jogo?:  '\u001b[0m\u001b[0;34m)\u001b[0m\u001b[0;34m)\u001b[0m\u001b[0;34m\u001b[0m\u001b[0;34m\u001b[0m\u001b[0m\n\u001b[1;32m      5\u001b[0m   \u001b[0ma\u001b[0m \u001b[0;34m=\u001b[0m \u001b[0mint\u001b[0m\u001b[0;34m(\u001b[0m\u001b[0minput\u001b[0m\u001b[0;34m(\u001b[0m\u001b[0;34m'Quantos adultos com 18 anos ou mais vâo assitir o jogo?:  '\u001b[0m\u001b[0;34m)\u001b[0m\u001b[0;34m)\u001b[0m\u001b[0;34m\u001b[0m\u001b[0;34m\u001b[0m\u001b[0m\n",
            "\u001b[0;32m/usr/local/lib/python3.11/dist-packages/ipykernel/kernelbase.py\u001b[0m in \u001b[0;36mraw_input\u001b[0;34m(self, prompt)\u001b[0m\n\u001b[1;32m   1175\u001b[0m                 \u001b[0;34m\"raw_input was called, but this frontend does not support input requests.\"\u001b[0m\u001b[0;34m\u001b[0m\u001b[0;34m\u001b[0m\u001b[0m\n\u001b[1;32m   1176\u001b[0m             )\n\u001b[0;32m-> 1177\u001b[0;31m         return self._input_request(\n\u001b[0m\u001b[1;32m   1178\u001b[0m             \u001b[0mstr\u001b[0m\u001b[0;34m(\u001b[0m\u001b[0mprompt\u001b[0m\u001b[0;34m)\u001b[0m\u001b[0;34m,\u001b[0m\u001b[0;34m\u001b[0m\u001b[0;34m\u001b[0m\u001b[0m\n\u001b[1;32m   1179\u001b[0m             \u001b[0mself\u001b[0m\u001b[0;34m.\u001b[0m\u001b[0m_parent_ident\u001b[0m\u001b[0;34m[\u001b[0m\u001b[0;34m\"shell\"\u001b[0m\u001b[0;34m]\u001b[0m\u001b[0;34m,\u001b[0m\u001b[0;34m\u001b[0m\u001b[0;34m\u001b[0m\u001b[0m\n",
            "\u001b[0;32m/usr/local/lib/python3.11/dist-packages/ipykernel/kernelbase.py\u001b[0m in \u001b[0;36m_input_request\u001b[0;34m(self, prompt, ident, parent, password)\u001b[0m\n\u001b[1;32m   1217\u001b[0m             \u001b[0;32mexcept\u001b[0m \u001b[0mKeyboardInterrupt\u001b[0m\u001b[0;34m:\u001b[0m\u001b[0;34m\u001b[0m\u001b[0;34m\u001b[0m\u001b[0m\n\u001b[1;32m   1218\u001b[0m                 \u001b[0;31m# re-raise KeyboardInterrupt, to truncate traceback\u001b[0m\u001b[0;34m\u001b[0m\u001b[0;34m\u001b[0m\u001b[0m\n\u001b[0;32m-> 1219\u001b[0;31m                 \u001b[0;32mraise\u001b[0m \u001b[0mKeyboardInterrupt\u001b[0m\u001b[0;34m(\u001b[0m\u001b[0;34m\"Interrupted by user\"\u001b[0m\u001b[0;34m)\u001b[0m \u001b[0;32mfrom\u001b[0m \u001b[0;32mNone\u001b[0m\u001b[0;34m\u001b[0m\u001b[0;34m\u001b[0m\u001b[0m\n\u001b[0m\u001b[1;32m   1220\u001b[0m             \u001b[0;32mexcept\u001b[0m \u001b[0mException\u001b[0m\u001b[0;34m:\u001b[0m\u001b[0;34m\u001b[0m\u001b[0;34m\u001b[0m\u001b[0m\n\u001b[1;32m   1221\u001b[0m                 \u001b[0mself\u001b[0m\u001b[0;34m.\u001b[0m\u001b[0mlog\u001b[0m\u001b[0;34m.\u001b[0m\u001b[0mwarning\u001b[0m\u001b[0;34m(\u001b[0m\u001b[0;34m\"Invalid Message:\"\u001b[0m\u001b[0;34m,\u001b[0m \u001b[0mexc_info\u001b[0m\u001b[0;34m=\u001b[0m\u001b[0;32mTrue\u001b[0m\u001b[0;34m)\u001b[0m\u001b[0;34m\u001b[0m\u001b[0;34m\u001b[0m\u001b[0m\n",
            "\u001b[0;31mKeyboardInterrupt\u001b[0m: Interrupted by user"
          ]
        }
      ]
    },
    {
      "cell_type": "markdown",
      "source": [
        "# EXERCÍCIO NÚMERO 6:"
      ],
      "metadata": {
        "id": "GtlpSfKwqWJs"
      }
    },
    {
      "cell_type": "code",
      "source": [
        "try:\n",
        "  n = float(input('Digite um número é igual ou maior que 0: '))\n",
        "  if(n < 0):\n",
        "    print('O número deve ser maior ou igual a 0')\n",
        "  else:\n",
        "    verificar = n ** 2\n",
        "    if(verificar % 2 != 0 and verificar % 11 == 0):\n",
        "      print(f'O número {verificar: .2f} é impar e multiplo de 11')\n",
        "    else:\n",
        "      print(f'O quadrado de {n:.2f} é {verificar:.2f}, que não atende aos critérios.')\n",
        "except Exception as ERRO_EXCECAO:\n",
        "  print(f'ERRO DE EXCEÇÃO: {ERRO_EXCECAO}')"
      ],
      "metadata": {
        "id": "IYHqVwfcqWSl",
        "outputId": "c2927963-5145-4586-8aa7-d682cebe0437",
        "colab": {
          "base_uri": "https://localhost:8080/"
        }
      },
      "execution_count": 40,
      "outputs": [
        {
          "output_type": "stream",
          "name": "stdout",
          "text": [
            "Digite um número é igual ou maior que 0: 10\n",
            "O quadrado de 10.00 é 100.00, que não atende aos critérios.\n"
          ]
        }
      ]
    },
    {
      "cell_type": "markdown",
      "source": [
        "# EXERCÍCIO NÚMERO 7:"
      ],
      "metadata": {
        "id": "0Sj4dalPqWcj"
      }
    },
    {
      "cell_type": "code",
      "source": [
        "try:\n",
        "  preco = float(input('Digite o valor da mercadoria: '))\n",
        "  reajuste = float(input('Digite o valor do reajuste: '))\n",
        "  if(preco < 0 or reajuste < 0):\n",
        "    print('O  valor do preço e do reajuste devem ser maiores que 0')\n",
        "  else:\n",
        "    identificador = int(input('Digite  o número [1] se você quer um acrescimo no valor ou digite o número [0] caso queira um desconto: '))\n",
        "    if(identificador > 1 or identificador < 0):\n",
        "      print('Digite o número [1] para acréscimo no valor ou  digite o número [0] para desconto')\n",
        "    else:\n",
        "      if(identificador == 1):\n",
        "        preco_reajustado = preco + ( preco * reajuste / 100)\n",
        "        print(f'O novo valor da mercadoria com o acréscimo é de: {preco_reajustado: .2f}')\n",
        "      else:\n",
        "        preco_reajustado = preco - ( preco * reajuste / 100)\n",
        "        print(f'O novo valor da mercadoria com o desconto é de: {preco_reajustado: .2f}')\n",
        "except Exception as ERRO_EXCECAO:\n",
        "  print(f'ERRO DE EXCEÇÃO: {ERRO_EXCECAO}')"
      ],
      "metadata": {
        "id": "f7jjM22BqWnx",
        "outputId": "a77b45b0-c981-4736-8e0b-83e4c4f225d2",
        "colab": {
          "base_uri": "https://localhost:8080/"
        }
      },
      "execution_count": 55,
      "outputs": [
        {
          "output_type": "stream",
          "name": "stdout",
          "text": [
            "Digite o valor da mercadoria: 1000\n",
            "Digite o valor do reajuste: 100\n",
            "Digite  o número [1] se você quer um acrescimo no valor ou digite o número [0] caso queira um desconto: 1\n",
            "O novo valor da mercadoria com o acréscimo é de:  2000.00\n"
          ]
        }
      ]
    },
    {
      "cell_type": "markdown",
      "source": [
        "# EXERCÍCIO NÚMERO 8:"
      ],
      "metadata": {
        "id": "_H4byYLxqW6O"
      }
    },
    {
      "cell_type": "code",
      "source": [],
      "metadata": {
        "id": "SiTXkieqqXGe"
      },
      "execution_count": null,
      "outputs": []
    },
    {
      "cell_type": "markdown",
      "source": [
        "# EXERCÍCIO NÚMERO 9:"
      ],
      "metadata": {
        "id": "nZnWODxGqXWV"
      }
    },
    {
      "cell_type": "code",
      "source": [],
      "metadata": {
        "id": "NzBvdHX4qXgg"
      },
      "execution_count": null,
      "outputs": []
    },
    {
      "cell_type": "markdown",
      "source": [
        "# EXERCÍCIO NÚMERO 10:"
      ],
      "metadata": {
        "id": "Jiv-3S1pqXsP"
      }
    },
    {
      "cell_type": "code",
      "source": [],
      "metadata": {
        "id": "rFefSIbLqX4N"
      },
      "execution_count": null,
      "outputs": []
    },
    {
      "cell_type": "markdown",
      "source": [
        "# EXERCÍCIO NÚMERO 11:"
      ],
      "metadata": {
        "id": "kMPNNvWRqYKK"
      }
    },
    {
      "cell_type": "code",
      "source": [],
      "metadata": {
        "id": "AqTFzfgmqYZC"
      },
      "execution_count": null,
      "outputs": []
    },
    {
      "cell_type": "markdown",
      "source": [
        "# EXERCÍCIO NÚMERO 12:"
      ],
      "metadata": {
        "id": "MlQ39tytqqaa"
      }
    },
    {
      "cell_type": "code",
      "source": [],
      "metadata": {
        "id": "AlBALr6bqqlC"
      },
      "execution_count": null,
      "outputs": []
    },
    {
      "cell_type": "markdown",
      "source": [
        "# EXERCÍCIO NÚMERO 13:"
      ],
      "metadata": {
        "id": "os0TfDnyqqyl"
      }
    },
    {
      "cell_type": "code",
      "source": [],
      "metadata": {
        "id": "SD7g2A8hqq_l"
      },
      "execution_count": null,
      "outputs": []
    },
    {
      "cell_type": "markdown",
      "source": [
        "# EXERCÍCIO NÚMERO 14:"
      ],
      "metadata": {
        "id": "1ezzk8FuqrMH"
      }
    },
    {
      "cell_type": "code",
      "source": [],
      "metadata": {
        "id": "JXOEq7gZqrWi"
      },
      "execution_count": null,
      "outputs": []
    },
    {
      "cell_type": "markdown",
      "source": [
        "# EXERCÍCIO NÚMERO 15:"
      ],
      "metadata": {
        "id": "BfXgIvxVqriS"
      }
    },
    {
      "cell_type": "code",
      "source": [],
      "metadata": {
        "id": "s_OX_Tpnqruw"
      },
      "execution_count": null,
      "outputs": []
    },
    {
      "cell_type": "markdown",
      "source": [
        "# EXERCÍCIO NÚMERO 16:"
      ],
      "metadata": {
        "id": "v82XL8Odqr80"
      }
    },
    {
      "cell_type": "code",
      "source": [],
      "metadata": {
        "id": "e8H1meofqsL5"
      },
      "execution_count": null,
      "outputs": []
    },
    {
      "cell_type": "markdown",
      "source": [
        "# EXERCÍCIO NÚMERO 17:"
      ],
      "metadata": {
        "id": "okpN_1KzqsWG"
      }
    },
    {
      "cell_type": "code",
      "source": [],
      "metadata": {
        "id": "D5Vy9XtkqsiD"
      },
      "execution_count": null,
      "outputs": []
    }
  ]
}